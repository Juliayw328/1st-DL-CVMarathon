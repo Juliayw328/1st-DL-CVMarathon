{
 "cells": [
  {
   "cell_type": "markdown",
   "metadata": {},
   "source": [
    "# [作業目標]\n",
    "- 利用範例的創建方式, 創建一組資料, 並練習如何取出最大值"
   ]
  },
  {
   "cell_type": "markdown",
   "metadata": {},
   "source": [
    "# [作業重點]\n",
    "- 練習創立 DataFrame (In[2])\n",
    "- 如何取出口數最多的國家 (In[3], Out[3])"
   ]
  },
  {
   "cell_type": "markdown",
   "metadata": {},
   "source": [
    "## 練習時間\n",
    "在小量的資料上，我們用眼睛就可以看得出來程式碼是否有跑出我們理想中的結果\n",
    "\n",
    "請嘗試想像一個你需要的資料結構 (裡面的值可以是隨機的)，然後用上述的方法把它變成 pandas DataFrame\n",
    "\n",
    "#### Ex: 想像一個 dataframe 有兩個欄位，一個是國家，一個是人口，求人口數最多的國家\n",
    "\n",
    "### Hints: [隨機產生數值](https://blog.csdn.net/christianashannon/article/details/78867204)"
   ]
  },
  {
   "cell_type": "code",
   "execution_count": 2,
   "metadata": {},
   "outputs": [],
   "source": [
    "import pandas as pd\n",
    "import numpy as np"
   ]
  },
  {
   "cell_type": "code",
   "execution_count": 4,
   "metadata": {},
   "outputs": [
    {
     "name": "stdout",
     "output_type": "stream",
     "text": [
      "[241118 240252 101309 293825 151595 179766  97212 228296 266921 169595]\n"
     ]
    }
   ],
   "source": [
    "pop = np.random.randint(90000,300000, size = 10)\n",
    "print(pop)"
   ]
  },
  {
   "cell_type": "code",
   "execution_count": 16,
   "metadata": {},
   "outputs": [],
   "source": [
    "Nat = ['USA', 'TW', 'JP' , 'CN', 'FR', 'NZ', 'Tai', 'KR', 'UK', 'EU']"
   ]
  },
  {
   "cell_type": "code",
   "execution_count": 17,
   "metadata": {},
   "outputs": [
    {
     "name": "stdout",
     "output_type": "stream",
     "text": [
      "    國家      人口\n",
      "0  USA  241118\n",
      "1   TW  240252\n",
      "2   JP  101309\n",
      "3   CN  293825\n",
      "4   FR  151595\n",
      "5   NZ  179766\n",
      "6  Tai   97212\n",
      "7   KR  228296\n",
      "8   UK  266921\n",
      "9   EU  169595\n"
     ]
    }
   ],
   "source": [
    "#Way1- DataFrame\n",
    "data = {'國家': Nat ,\n",
    "        '人口': pop}\n",
    "data = pd.DataFrame(data)\n",
    "print(data)"
   ]
  },
  {
   "cell_type": "code",
   "execution_count": 25,
   "metadata": {},
   "outputs": [
    {
     "name": "stdout",
     "output_type": "stream",
     "text": [
      "    國家      人口\n",
      "0  USA  241118\n",
      "1   TW  240252\n",
      "2   JP  101309\n",
      "3   CN  293825\n",
      "4   FR  151595\n",
      "5   NZ  179766\n",
      "6  Tai   97212\n",
      "7   KR  228296\n",
      "8   UK  266921\n",
      "9   EU  169595\n"
     ]
    }
   ],
   "source": [
    "#Way2- DataFrame\n",
    "info_colum = ['國家', '人口']\n",
    "info_label = [Nat,     pop]\n",
    "Details = list(zip(info_colum, info_label))\n",
    "Det_Frame = pd.DataFrame(dict(Details))\n",
    "print(Det_Frame)"
   ]
  },
  {
   "cell_type": "code",
   "execution_count": 29,
   "metadata": {},
   "outputs": [
    {
     "name": "stdout",
     "output_type": "stream",
     "text": [
      "國家       USA\n",
      "人口    293825\n",
      "dtype: object\n"
     ]
    }
   ],
   "source": [
    "#練習如何取出最大值\n",
    "\n",
    "print(data.max())"
   ]
  },
  {
   "cell_type": "code",
   "execution_count": null,
   "metadata": {},
   "outputs": [],
   "source": []
  }
 ],
 "metadata": {
  "kernelspec": {
   "display_name": "Python 3",
   "language": "python",
   "name": "python3"
  },
  "language_info": {
   "codemirror_mode": {
    "name": "ipython",
    "version": 3
   },
   "file_extension": ".py",
   "mimetype": "text/x-python",
   "name": "python",
   "nbconvert_exporter": "python",
   "pygments_lexer": "ipython3",
   "version": "3.8.3"
  }
 },
 "nbformat": 4,
 "nbformat_minor": 2
}
